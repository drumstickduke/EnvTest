{
 "cells": [
  {
   "cell_type": "code",
   "execution_count": null,
   "id": "cc1d366f",
   "metadata": {},
   "outputs": [],
   "source": [
    "!pip install pymysql"
   ]
  },
  {
   "cell_type": "code",
   "execution_count": null,
   "id": "2db30b72",
   "metadata": {},
   "outputs": [],
   "source": [
    "!pip install pymongo"
   ]
  },
  {
   "cell_type": "code",
   "execution_count": null,
   "id": "2124b517",
   "metadata": {},
   "outputs": [],
   "source": [
    "import pymysql\n",
    "# 開啟資料庫連線\n",
    "\n",
    "db = pymysql.connect(user=\"root\", password=\"youtube\", host=\"192.168.192.134\", port=3306)\n",
    "# 使用 cursor() 方法建立一個遊標物件 cursor\n",
    "cursor = db.cursor()\n",
    "# 使用 execute()  方法執行 SQL 查詢\n",
    "cursor.execute(\"SELECT VERSION()\")\n",
    "# 使用 fetchone() 方法獲取單條資料.\n",
    "data = cursor.fetchone()\n",
    "print (\"Database version : %s \" % data)\n",
    "# 關閉資料庫連線\n",
    "db.close()"
   ]
  },
  {
   "cell_type": "code",
   "execution_count": null,
   "id": "940b3c12",
   "metadata": {},
   "outputs": [],
   "source": [
    "from pymongo import MongoClient\n",
    "\n",
    "# 方法一\n",
    "# host主機名，27017連線埠\n",
    "client = MongoClient(\"192.168.192.134\", 27017)\n",
    "db_auth = client.admin\n",
    "# 登陸的使用者名稱(username)和密碼(password)\n",
    "db_auth.authenticate(\"root\",\"youtube\")\n",
    "# 連線指定資料庫，資料庫名為db_name\n",
    "db = client['db_name']"
   ]
  },
  {
   "cell_type": "code",
   "execution_count": null,
   "id": "fd6ec44b",
   "metadata": {},
   "outputs": [],
   "source": [
    "db.set1.insert_one({\"測試\":1})"
   ]
  },
  {
   "cell_type": "code",
   "execution_count": null,
   "id": "071cad2f",
   "metadata": {},
   "outputs": [],
   "source": [
    "col = db['set1']"
   ]
  },
  {
   "cell_type": "code",
   "execution_count": null,
   "id": "e3c07017",
   "metadata": {},
   "outputs": [],
   "source": [
    "x = col.find()\n",
    "\n",
    "for data in x:\n",
    "    print(data)"
   ]
  },
  {
   "cell_type": "code",
   "execution_count": null,
   "id": "2163370a",
   "metadata": {},
   "outputs": [],
   "source": [
    "x = list(col.find())\n",
    "print(x)"
   ]
  },
  {
   "cell_type": "code",
   "execution_count": null,
   "id": "f78c5f33",
   "metadata": {},
   "outputs": [],
   "source": [
    "client.database_names()"
   ]
  }
 ],
 "metadata": {
  "kernelspec": {
   "display_name": "Python 3",
   "language": "python",
   "name": "python3"
  },
  "language_info": {
   "codemirror_mode": {
    "name": "ipython",
    "version": 3
   },
   "file_extension": ".py",
   "mimetype": "text/x-python",
   "name": "python",
   "nbconvert_exporter": "python",
   "pygments_lexer": "ipython3",
   "version": "3.6.8"
  }
 },
 "nbformat": 4,
 "nbformat_minor": 5
}
